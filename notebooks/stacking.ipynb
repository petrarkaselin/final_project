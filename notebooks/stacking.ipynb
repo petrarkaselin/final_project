{
 "cells": [
  {
   "cell_type": "code",
   "execution_count": 12,
   "id": "cd433cb6-e48a-45ed-98b2-6fd9a560f2da",
   "metadata": {},
   "outputs": [],
   "source": [
    "import pandas as pd\n",
    "from sklearn.ensemble import StackingClassifier\n",
    "import joblib\n",
    "from sklearn.linear_model import LogisticRegression\n",
    "from sklearn.model_selection import train_test_split\n",
    "from sklearn.preprocessing import OneHotEncoder\n",
    "from sklearn.tree import DecisionTreeClassifier\n",
    "from sklearn.neighbors import KNeighborsClassifier\n",
    "from sklearn.compose import ColumnTransformer\n",
    "from sklearn.pipeline import Pipeline\n",
    "from sklearn.metrics import accuracy_score, classification_report, confusion_matrix\n",
    "from sklearn.metrics import cohen_kappa_score"
   ]
  },
  {
   "cell_type": "code",
   "execution_count": 9,
   "id": "70807e9c-f86e-4cdf-9078-38d981c25bea",
   "metadata": {},
   "outputs": [],
   "source": [
    "combined_data = pd.read_csv('../data/cleaned/combined_data.csv')"
   ]
  },
  {
   "cell_type": "code",
   "execution_count": 10,
   "id": "8884ddf1-d3eb-436e-8d0a-91c37e3c0ce0",
   "metadata": {},
   "outputs": [],
   "source": [
    "# Load the KNN model from the file\n",
    "knn_model = joblib.load('../src/knn_model.pkl')\n",
    "\n",
    "# Load the Logistic Regression model from the file\n",
    "logreg_model = joblib.load('../src/logreg_model.pkl')\n",
    "\n",
    "# Load the Decision Tree model from the file\n",
    "dt_model = joblib.load('../src/dt_model.pkl')"
   ]
  },
  {
   "cell_type": "code",
   "execution_count": 11,
   "id": "9cf6b3fb-449f-40b3-aae8-abcede1b41d0",
   "metadata": {},
   "outputs": [
    {
     "name": "stdout",
     "output_type": "stream",
     "text": [
      "Accuracy: 0.8309352517985612\n",
      "\n",
      "Classification Report:\n",
      "               precision    recall  f1-score   support\n",
      "\n",
      "          No       0.84      0.99      0.90       226\n",
      "         Yes       0.73      0.15      0.25        52\n",
      "\n",
      "    accuracy                           0.83       278\n",
      "   macro avg       0.78      0.57      0.58       278\n",
      "weighted avg       0.82      0.83      0.78       278\n",
      "\n",
      "\n",
      "Confusion Matrix:\n",
      " [[223   3]\n",
      " [ 44   8]]\n"
     ]
    }
   ],
   "source": [
    "X = combined_data.drop('attrition', axis=1)\n",
    "y = combined_data['attrition']\n",
    "\n",
    "# Identify categorical columns to be encoded\n",
    "columns_to_encode = ['business_travel', 'department', 'education_field', 'gender', 'job_role', 'marital_status', 'over_time']\n",
    "\n",
    "# Split the data into training and testing sets\n",
    "X_train, X_test, y_train, y_test = train_test_split(X, y, test_size=0.2, random_state=42)\n",
    "\n",
    "# Define the transformer for categorical columns (OneHotEncoder)\n",
    "categorical_transformer = OneHotEncoder(drop='first')\n",
    "\n",
    "# Combine transformers using ColumnTransformer\n",
    "preprocessor = ColumnTransformer(\n",
    "    transformers=[\n",
    "        ('cat', categorical_transformer, columns_to_encode),\n",
    "    ])\n",
    "\n",
    "estimators = [\n",
    "    ('knn', knn_model),\n",
    "    ('logreg', logreg_model),\n",
    "    ('dt', dt_model)\n",
    "]\n",
    "\n",
    "# Define the meta-model (you can choose any classifier as a meta-model)\n",
    "meta_model = LogisticRegression(random_state=42)\n",
    "\n",
    "# Create the stacking model\n",
    "stacking_model = StackingClassifier(estimators=estimators, final_estimator=meta_model)\n",
    "\n",
    "# Fit the stacking model\n",
    "stacking_model.fit(X_train, y_train)\n",
    "\n",
    "# Predictions on the test set\n",
    "y_pred_stacking = stacking_model.predict(X_test)\n",
    "\n",
    "# Evaluate the performance of the stacking model\n",
    "print(\"Accuracy:\", accuracy_score(y_test, y_pred_stacking))\n",
    "print(\"\\nClassification Report:\\n\", classification_report(y_test, y_pred_stacking))\n",
    "print(\"\\nConfusion Matrix:\\n\", confusion_matrix(y_test, y_pred_stacking))"
   ]
  },
  {
   "cell_type": "code",
   "execution_count": 13,
   "id": "4fa8bd53-caa0-4d88-895a-e1ef4dd935ce",
   "metadata": {},
   "outputs": [
    {
     "name": "stdout",
     "output_type": "stream",
     "text": [
      "Cohen's Kappa for Stacking Model: 0.20183262064752594\n"
     ]
    }
   ],
   "source": [
    "kappa_stacking = cohen_kappa_score(y_test, y_pred_stacking)\n",
    "print(\"Cohen's Kappa for Stacking Model:\", kappa_stacking)"
   ]
  },
  {
   "cell_type": "code",
   "execution_count": null,
   "id": "27020549-1735-47a9-902f-bb2f39cba253",
   "metadata": {},
   "outputs": [],
   "source": []
  },
  {
   "cell_type": "code",
   "execution_count": null,
   "id": "ceb5b101-aec5-4644-b650-d24f869d0e84",
   "metadata": {},
   "outputs": [],
   "source": []
  },
  {
   "cell_type": "code",
   "execution_count": null,
   "id": "cfeafba8-a682-41cc-aae2-7931f17abcb1",
   "metadata": {},
   "outputs": [],
   "source": []
  }
 ],
 "metadata": {
  "kernelspec": {
   "display_name": "venv",
   "language": "python",
   "name": "venv"
  },
  "language_info": {
   "codemirror_mode": {
    "name": "ipython",
    "version": 3
   },
   "file_extension": ".py",
   "mimetype": "text/x-python",
   "name": "python",
   "nbconvert_exporter": "python",
   "pygments_lexer": "ipython3",
   "version": "3.9.18"
  }
 },
 "nbformat": 4,
 "nbformat_minor": 5
}
